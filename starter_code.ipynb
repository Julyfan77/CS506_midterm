{
 "cells": [
  {
   "cell_type": "markdown",
   "metadata": {},
   "source": [
    "# Libraries"
   ]
  },
  {
   "cell_type": "code",
   "execution_count": 48,
   "metadata": {},
   "outputs": [],
   "source": [
    "import pickle\n",
    "import pandas as pd\n",
    "import seaborn as sns\n",
    "from os.path import exists\n",
    "import matplotlib.pyplot as plt\n",
    "from sklearn.neighbors import KNeighborsClassifier\n",
    "from sklearn.model_selection import train_test_split\n",
    "from sklearn.metrics import accuracy_score, confusion_matrix"
   ]
  },
  {
   "cell_type": "markdown",
   "metadata": {},
   "source": [
    "# Loading the Files\n",
    "\n",
    "Download the csv files into the `data/` directory."
   ]
  },
  {
   "cell_type": "code",
   "execution_count": 49,
   "metadata": {},
   "outputs": [
    {
     "name": "stdout",
     "output_type": "stream",
     "text": [
      "train.csv shape is  (8000, 9)\n",
      "test.csv shape is  (212192, 9)\n",
      "\n",
      "        Id   ProductId          UserId  HelpfulnessNumerator  \\\n",
      "0   914403  B0009W5KHM   AV6QDP8Q0ONK4                     2   \n",
      "1   354887  6303079709  A2I8RXJN80A2D2                     0   \n",
      "2  1407653  B004H0M2XC  A3FHV3RV8Z12E6                     0   \n",
      "3  1377458  B003ZJ9536  A12VLTA3ZHVPUY                     1   \n",
      "4   475323  630574453X  A13NM1PES9OXVN                     2   \n",
      "\n",
      "   HelpfulnessDenominator        Time  \\\n",
      "0                       2  1341014400   \n",
      "1                       0  1168819200   \n",
      "2                       0  1386201600   \n",
      "3                       1  1348704000   \n",
      "4                       3   970012800   \n",
      "\n",
      "                                         Summary  \\\n",
      "0                                  GOOD FUN FILM   \n",
      "1                                   Movie Review   \n",
      "2             When is it a good time to Consent?   \n",
      "3                                          TRUTH   \n",
      "4  Intelligent and bittersweet -- stays with you   \n",
      "\n",
      "                                                Text  Score  \n",
      "0  While most straight to DVD films are not worth...    5.0  \n",
      "1  I have wanted this one for sometime, also.  I ...    5.0  \n",
      "2  Actually this was a pretty darn good indie fil...    4.0  \n",
      "3  Episodes 37 to 72 of the series press on in a ...    5.0  \n",
      "4  I was really impressed with this movie, but wa...    3.0  \n",
      "\n",
      "        Id   ProductId          UserId  HelpfulnessNumerator  \\\n",
      "0  1323432  B0034G4P30  A120UTHQDQIJGH                     0   \n",
      "1  1137299  B0012IWO0I  A3SJBFCTJWBFT2                     1   \n",
      "2  1459366  B005FUTBSC  A1V6FRU7EXP6N9                     0   \n",
      "3   931601  B000AREXBU   ARXDDR76Z5Q2I                     5   \n",
      "4  1311995  B002ZG99B8   A2XAS9GVZL3B1                     2   \n",
      "\n",
      "   HelpfulnessDenominator        Time  \\\n",
      "0                       0  1391040000   \n",
      "1                       1  1388188800   \n",
      "2                       0  1356739200   \n",
      "3                       5  1169510400   \n",
      "4                       2  1392595200   \n",
      "\n",
      "                                             Summary  \\\n",
      "0                                  Okay for a rental   \n",
      "1                                     Great for kids   \n",
      "2                                         good movie   \n",
      "3  Excellent quality dvd.  Don't pay big bucks fo...   \n",
      "4                                     A mixed review   \n",
      "\n",
      "                                                Text  Score  \n",
      "0  This movie was just alright for me. I think pe...    NaN  \n",
      "1  My kids love this movie.  Exciting and fun to ...    NaN  \n",
      "2  The effects were good, not the best but far fr...    NaN  \n",
      "3  I just got a copy of this S. Korean dvd of \"He...    NaN  \n",
      "4  OK, to put this clearly and bluntly... if you ...    NaN  \n",
      "\n",
      "                 Id  HelpfulnessNumerator  HelpfulnessDenominator  \\\n",
      "count  8.000000e+03           8000.000000             8000.000000   \n",
      "mean   8.476319e+05              3.401250                5.231875   \n",
      "std    4.972580e+05             12.629942               16.255319   \n",
      "min    3.080000e+02              0.000000                0.000000   \n",
      "25%    4.103895e+05              0.000000                0.000000   \n",
      "50%    8.503310e+05              1.000000                1.000000   \n",
      "75%    1.282138e+06              3.000000                5.000000   \n",
      "max    1.696582e+06            435.000000              605.000000   \n",
      "\n",
      "               Time        Score  \n",
      "count  8.000000e+03  8000.000000  \n",
      "mean   1.263201e+09     4.101125  \n",
      "std    1.293575e+08     1.210199  \n",
      "min    8.798976e+08     1.000000  \n",
      "25%    1.163203e+09     4.000000  \n",
      "50%    1.310774e+09     5.000000  \n",
      "75%    1.373522e+09     5.000000  \n",
      "max    1.405987e+09     5.000000  \n"
     ]
    },
    {
     "data": {
      "image/png": "[encoded data removed]",
      "text/plain": [
       "<Figure size 640x480 with 1 Axes>"
      ]
     },
     "metadata": {},
     "output_type": "display_data"
    },
    {
     "name": "stdout",
     "output_type": "stream",
     "text": [
      "\n",
      "EVERYTHING IS PROPERLY SET UP! YOU ARE READY TO START\n"
     ]
    }
   ],
   "source": [
    "trainingSet = pd.read_csv(\"./train.csv\")[:8000]\n",
    "testingSet = pd.read_csv(\"./mytest.csv\")\n",
    "\n",
    "print(\"train.csv shape is \", trainingSet.shape)\n",
    "print(\"test.csv shape is \", testingSet.shape)\n",
    "\n",
    "print()\n",
    "\n",
    "print(trainingSet.head())\n",
    "print()\n",
    "print(testingSet.head())\n",
    "\n",
    "print()\n",
    "\n",
    "print(trainingSet.describe())\n",
    "\n",
    "trainingSet['Score'].value_counts().plot(kind='bar', legend=True, alpha=.5)\n",
    "plt.show()\n",
    "\n",
    "print()\n",
    "print(\"EVERYTHING IS PROPERLY SET UP! YOU ARE READY TO START\")"
   ]
  },
  {
   "cell_type": "markdown",
   "metadata": {},
   "source": [
    "# Adding Features"
   ]
  },
  {
   "cell_type": "code",
   "execution_count": 56,
   "metadata": {},
   "outputs": [],
   "source": [
    "from sklearn.preprocessing import MinMaxScaler,StandardScaler\n",
    "\n",
    "keyword_scores = {\n",
    "    'great':2,'love':2,'excellent': 2,'awesome':2,\n",
    "    'bad': -1,'boring':-1, 'not':-1,'stupid':-1,\n",
    "    'terrible':-2,'awful': -2,\n",
    "    'good': 1, 'fun': 1,'fine':1,'nice':1\n",
    "}\n",
    "def calculate_score(summary):\n",
    "    if pd.isna(summary):\n",
    "        return 0\n",
    "    words = summary.lower().split()\n",
    "    score = sum(keyword_scores.get(word, 0) for word in words)\n",
    "    return score\n",
    "\n",
    "def add_features_to(df):\n",
    "    # This is where you can do all your feature extraction\n",
    "\n",
    "    df['Helpfulness'] = (df['HelpfulnessNumerator'] / df['HelpfulnessDenominator'])*10\n",
    "    df['Helpfulness'] = df['Helpfulness'].fillna(0)\n",
    "    df['SummaryScore'] = df['Summary'].apply(calculate_score)*0\n",
    "    #print(df['SummaryScore'][:5])\n",
    "    return df\n",
    "\n",
    "# Load the feature extracted files if they've already been generated\n",
    "\n",
    "# Process the DataFrame\n",
    "train = add_features_to(trainingSet)\n",
    "test = add_features_to(testingSet)\n",
    "scaler = StandardScaler()\n",
    "\n",
    "# 选择需要标准化的列（假设是 'Feature1' 和 'Feature2'）\n",
    "features = ['Helpfulness', 'Time','SummaryScore']\n",
    "\n",
    "# 对特征进行标准化\n",
    "train[features] = scaler.fit_transform(train[features])\n",
    "test[features]= scaler.fit_transform(test[features])\n",
    "scaler = MinMaxScaler()\n",
    "train[features] = scaler.fit_transform(train[features])\n",
    "test[features] = scaler.transform(test[features])\n",
    "# Merge on Id so that the submission set can have feature columns as well\n",
    "X_submission = test\n",
    "\n",
    "# The training set is where the score is not null\n",
    "X_train =  train[train['Score'].notnull()]\n",
    "X_train.to_csv(\"./X_train.csv\", index=False)"
   ]
  },
  {
   "cell_type": "markdown",
   "metadata": {},
   "source": [
    "# Sample + Split into training and testing set"
   ]
  },
  {
   "cell_type": "code",
   "execution_count": 57,
   "metadata": {},
   "outputs": [],
   "source": [
    "# Split training set into training and testing set\n",
    "X_train, X_test, Y_train, Y_test = train_test_split(\n",
    "    X_train.drop(columns=['Score']),\n",
    "    X_train['Score'],\n",
    "    test_size=1/4.0,\n",
    "    random_state=0\n",
    ")"
   ]
  },
  {
   "cell_type": "markdown",
   "metadata": {},
   "source": [
    "# Feature Selection"
   ]
  },
  {
   "cell_type": "code",
   "execution_count": 58,
   "metadata": {},
   "outputs": [],
   "source": [
    "features = [ 'Time','HelpfulnessDenominator' ,'SummaryScore','UserId','ProductId','Helpfulness']\n",
    "\n",
    "X_train_select = X_train[features]\n",
    "X_test_select = X_test[features]\n",
    "X_submission_select = X_submission[features]\n"
   ]
  },
  {
   "cell_type": "markdown",
   "metadata": {},
   "source": [
    "# Model Creation"
   ]
  },
  {
   "cell_type": "code",
   "execution_count": 59,
   "metadata": {},
   "outputs": [
    {
     "name": "stdout",
     "output_type": "stream",
     "text": [
      "init\n",
      "fit (6000, 4)\n",
      "Accuracy on testing set =  0.5325\n"
     ]
    }
   ],
   "source": [
    "# Learn the model\n",
    "#model = KNeighborsClassifier(n_neighbors=3).fit(X_train_select, Y_train)\n",
    "# import numpy as np\n",
    "# print(np.array(X_train_select))\n",
    "# print(X_train_select)\n",
    "import KNN\n",
    "import importlib\n",
    "importlib.reload(KNN)\n",
    "model=KNN.CustomKNN(n_neighbors=38,use_weights=\"helpful\")\n",
    "model.fit(X_train_select, Y_train)\n",
    "# Predict the score using the model\n",
    "Y_test_predictions = model.predict(X_test_select)\n",
    "# Evaluate your model on the testing set\n",
    "print(\"Accuracy on testing set = \", accuracy_score(Y_test, Y_test_predictions))"
   ]
  },
  {
   "cell_type": "markdown",
   "metadata": {},
   "source": [
    "# Model Evaluation"
   ]
  },
  {
   "cell_type": "code",
   "execution_count": 54,
   "metadata": {},
   "outputs": [
    {
     "data": {
      "image/png": "[encoded data removed]",
      "text/plain": [
       "<Figure size 640x480 with 2 Axes>"
      ]
     },
     "metadata": {},
     "output_type": "display_data"
    }
   ],
   "source": [
    "# Plot a confusion matrix\n",
    "cm = confusion_matrix(Y_test, Y_test_predictions, normalize='true')\n",
    "sns.heatmap(cm, annot=True)\n",
    "plt.title('Confusion matrix of the classifier')\n",
    "plt.xlabel('Predicted')\n",
    "plt.ylabel('True')\n",
    "plt.show()"
   ]
  },
  {
   "cell_type": "markdown",
   "metadata": {},
   "source": [
    "# Create submission file"
   ]
  },
  {
   "cell_type": "code",
   "execution_count": 55,
   "metadata": {},
   "outputs": [],
   "source": [
    "# Create the submission file\n",
    "#X_submission_select=X_submission_select[:100]\n",
    "# print(X_submission_select.shape)\n",
    "# X_submission['Score'] = model.predict(X_submission_select)\n",
    "# submission = X_submission[['Id', 'Score']]\n",
    "# submission.to_csv(\"./submission.csv\", index=False)"
   ]
  }
 ],
 "metadata": {
  "kernelspec": {
   "display_name": "env",
   "language": "python",
   "name": "python3"
  },
  "language_info": {
   "codemirror_mode": {
    "name": "ipython",
    "version": 3
   },
   "file_extension": ".py",
   "mimetype": "text/x-python",
   "name": "python",
   "nbconvert_exporter": "python",
   "pygments_lexer": "ipython3",
   "version": "3.12.5"
  }
 },
 "nbformat": 4,
 "nbformat_minor": 2
}
