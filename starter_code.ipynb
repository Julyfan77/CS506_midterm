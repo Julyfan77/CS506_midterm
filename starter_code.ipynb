{
 "cells": [
  {
   "cell_type": "markdown",
   "metadata": {},
   "source": [
    "# Libraries"
   ]
  },
  {
   "cell_type": "code",
   "execution_count": 82,
   "metadata": {},
   "outputs": [],
   "source": [
    "import pickle\n",
    "import pandas as pd\n",
    "import seaborn as sns\n",
    "from os.path import exists\n",
    "import matplotlib.pyplot as plt\n",
    "from sklearn.neighbors import KNeighborsClassifier\n",
    "from sklearn.model_selection import train_test_split\n",
    "from sklearn.metrics import accuracy_score, confusion_matrix"
   ]
  },
  {
   "cell_type": "markdown",
   "metadata": {},
   "source": [
    "# Loading the Files\n",
    "\n",
    "Download the csv files into the `data/` directory."
   ]
  },
  {
   "cell_type": "code",
   "execution_count": 91,
   "metadata": {},
   "outputs": [
    {
     "name": "stdout",
     "output_type": "stream",
     "text": [
      "train.csv shape is  (8000, 9)\n",
      "test.csv shape is  (212192, 9)\n",
      "\n",
      "        Id   ProductId          UserId  HelpfulnessNumerator  \\\n",
      "0   914403  B0009W5KHM   AV6QDP8Q0ONK4                     2   \n",
      "1   354887  6303079709  A2I8RXJN80A2D2                     0   \n",
      "2  1407653  B004H0M2XC  A3FHV3RV8Z12E6                     0   \n",
      "3  1377458  B003ZJ9536  A12VLTA3ZHVPUY                     1   \n",
      "4   475323  630574453X  A13NM1PES9OXVN                     2   \n",
      "\n",
      "   HelpfulnessDenominator        Time  \\\n",
      "0                       2  1341014400   \n",
      "1                       0  1168819200   \n",
      "2                       0  1386201600   \n",
      "3                       1  1348704000   \n",
      "4                       3   970012800   \n",
      "\n",
      "                                         Summary  \\\n",
      "0                                  GOOD FUN FILM   \n",
      "1                                   Movie Review   \n",
      "2             When is it a good time to Consent?   \n",
      "3                                          TRUTH   \n",
      "4  Intelligent and bittersweet -- stays with you   \n",
      "\n",
      "                                                Text  Score  \n",
      "0  While most straight to DVD films are not worth...    5.0  \n",
      "1  I have wanted this one for sometime, also.  I ...    5.0  \n",
      "2  Actually this was a pretty darn good indie fil...    4.0  \n",
      "3  Episodes 37 to 72 of the series press on in a ...    5.0  \n",
      "4  I was really impressed with this movie, but wa...    3.0  \n",
      "\n",
      "        Id   ProductId          UserId  HelpfulnessNumerator  \\\n",
      "0  1323432  B0034G4P30  A120UTHQDQIJGH                     0   \n",
      "1  1137299  B0012IWO0I  A3SJBFCTJWBFT2                     1   \n",
      "2  1459366  B005FUTBSC  A1V6FRU7EXP6N9                     0   \n",
      "3   931601  B000AREXBU   ARXDDR76Z5Q2I                     5   \n",
      "4  1311995  B002ZG99B8   A2XAS9GVZL3B1                     2   \n",
      "\n",
      "   HelpfulnessDenominator        Time  \\\n",
      "0                       0  1391040000   \n",
      "1                       1  1388188800   \n",
      "2                       0  1356739200   \n",
      "3                       5  1169510400   \n",
      "4                       2  1392595200   \n",
      "\n",
      "                                             Summary  \\\n",
      "0                                  Okay for a rental   \n",
      "1                                     Great for kids   \n",
      "2                                         good movie   \n",
      "3  Excellent quality dvd.  Don't pay big bucks fo...   \n",
      "4                                     A mixed review   \n",
      "\n",
      "                                                Text  Score  \n",
      "0  This movie was just alright for me. I think pe...    NaN  \n",
      "1  My kids love this movie.  Exciting and fun to ...    NaN  \n",
      "2  The effects were good, not the best but far fr...    NaN  \n",
      "3  I just got a copy of this S. Korean dvd of \"He...    NaN  \n",
      "4  OK, to put this clearly and bluntly... if you ...    NaN  \n",
      "\n",
      "                 Id  HelpfulnessNumerator  HelpfulnessDenominator  \\\n",
      "count  8.000000e+03           8000.000000             8000.000000   \n",
      "mean   8.476319e+05              3.401250                5.231875   \n",
      "std    4.972580e+05             12.629942               16.255319   \n",
      "min    3.080000e+02              0.000000                0.000000   \n",
      "25%    4.103895e+05              0.000000                0.000000   \n",
      "50%    8.503310e+05              1.000000                1.000000   \n",
      "75%    1.282138e+06              3.000000                5.000000   \n",
      "max    1.696582e+06            435.000000              605.000000   \n",
      "\n",
      "               Time        Score  \n",
      "count  8.000000e+03  8000.000000  \n",
      "mean   1.263201e+09     4.101125  \n",
      "std    1.293575e+08     1.210199  \n",
      "min    8.798976e+08     1.000000  \n",
      "25%    1.163203e+09     4.000000  \n",
      "50%    1.310774e+09     5.000000  \n",
      "75%    1.373522e+09     5.000000  \n",
      "max    1.405987e+09     5.000000  \n"
     ]
    },
    {
     "data": {
      "image/png": "[encoded data removed]",
      "text/plain": [
       "<Figure size 640x480 with 1 Axes>"
      ]
     },
     "metadata": {},
     "output_type": "display_data"
    },
    {
     "name": "stdout",
     "output_type": "stream",
     "text": [
      "\n",
      "EVERYTHING IS PROPERLY SET UP! YOU ARE READY TO START\n"
     ]
    }
   ],
   "source": [
    "trainingSet = pd.read_csv(\"./train.csv\")[:8000]\n",
    "testingSet = pd.read_csv(\"./mytest.csv\")\n",
    "\n",
    "print(\"train.csv shape is \", trainingSet.shape)\n",
    "print(\"test.csv shape is \", testingSet.shape)\n",
    "\n",
    "print()\n",
    "\n",
    "print(trainingSet.head())\n",
    "print()\n",
    "print(testingSet.head())\n",
    "\n",
    "print()\n",
    "\n",
    "print(trainingSet.describe())\n",
    "\n",
    "trainingSet['Score'].value_counts().plot(kind='bar', legend=True, alpha=.5)\n",
    "plt.show()\n",
    "\n",
    "print()\n",
    "print(\"EVERYTHING IS PROPERLY SET UP! YOU ARE READY TO START\")"
   ]
  },
  {
   "cell_type": "markdown",
   "metadata": {},
   "source": [
    "# Adding Features"
   ]
  },
  {
   "cell_type": "code",
   "execution_count": 96,
   "metadata": {},
   "outputs": [
    {
     "name": "stdout",
     "output_type": "stream",
     "text": [
      "             Id   ProductId          UserId  HelpfulnessNumerator  \\\n",
      "0       1323432  B0034G4P30  A120UTHQDQIJGH                     0   \n",
      "1       1137299  B0012IWO0I  A3SJBFCTJWBFT2                     1   \n",
      "2       1459366  B005FUTBSC  A1V6FRU7EXP6N9                     0   \n",
      "3        931601  B000AREXBU   ARXDDR76Z5Q2I                     5   \n",
      "4       1311995  B002ZG99B8   A2XAS9GVZL3B1                     2   \n",
      "...         ...         ...             ...                   ...   \n",
      "212187   510697  B00001IVEC  A2GY7CJXS09779                     0   \n",
      "212188   230001  6300251330  A2B73CL3QSYWLB                     0   \n",
      "212189  1346402  B003IHUI0O  A1BOA9HRMEPLKX                     0   \n",
      "212190   695280  B000063JZ6  A1MHTHU9A6OFN3                     0   \n",
      "212191  1371294  B003Y58CLC   AOWNQQG5UHK9U                     3   \n",
      "\n",
      "        HelpfulnessDenominator        Time  \\\n",
      "0                            0  1391040000   \n",
      "1                            1  1388188800   \n",
      "2                            0  1356739200   \n",
      "3                            5  1169510400   \n",
      "4                            2  1392595200   \n",
      "...                        ...         ...   \n",
      "212187                       0  1355875200   \n",
      "212188                       0  1404518400   \n",
      "212189                       0  1400803200   \n",
      "212190                       0  1229990400   \n",
      "212191                       4  1293840000   \n",
      "\n",
      "                                                  Summary  \\\n",
      "0                                       Okay for a rental   \n",
      "1                                          Great for kids   \n",
      "2                                              good movie   \n",
      "3       Excellent quality dvd.  Don't pay big bucks fo...   \n",
      "4                                          A mixed review   \n",
      "...                                                   ...   \n",
      "212187                                 Great and Touching   \n",
      "212188                                          OK Sci-Fi   \n",
      "212189                   Very good story. Very well done.   \n",
      "212190   One of the Greatest Concert DVDs Ever Released!!   \n",
      "212191               Gheorghiou shines in the title role!   \n",
      "\n",
      "                                                     Text  Score  \n",
      "0       This movie was just alright for me. I think pe...    NaN  \n",
      "1       My kids love this movie.  Exciting and fun to ...    NaN  \n",
      "2       The effects were good, not the best but far fr...    NaN  \n",
      "3       I just got a copy of this S. Korean dvd of \"He...    NaN  \n",
      "4       OK, to put this clearly and bluntly... if you ...    NaN  \n",
      "...                                                   ...    ...  \n",
      "212187  The whole family loves to watch this touching ...    NaN  \n",
      "212188  I really dug science fiction films prior to CG...    NaN  \n",
      "212189  This was an excellent movie. Well done and fam...    NaN  \n",
      "212190  How can I make such a preposterous remark? Sim...    NaN  \n",
      "212191  Angela Gheorghiu, Roberto Alagna and Mariusz B...    NaN  \n",
      "\n",
      "[212192 rows x 9 columns]\n"
     ]
    }
   ],
   "source": [
    "from sklearn.preprocessing import MinMaxScaler,StandardScaler\n",
    "\n",
    "\n",
    "def add_features_to(df):\n",
    "    # This is where you can do all your feature extraction\n",
    "\n",
    "    df['Helpfulness'] = (df['HelpfulnessNumerator'] / df['HelpfulnessDenominator'])*10\n",
    "    df['Helpfulness'] = df['Helpfulness'].fillna(0)\n",
    "    return df\n",
    "\n",
    "# Load the feature extracted files if they've already been generated\n",
    "\n",
    "# Process the DataFrame\n",
    "train = add_features_to(trainingSet)\n",
    "scaler = StandardScaler()\n",
    "\n",
    "# 选择需要标准化的列（假设是 'Feature1' 和 'Feature2'）\n",
    "features = ['Helpfulness', 'Time']\n",
    "\n",
    "# 对特征进行标准化\n",
    "train[features] = scaler.fit_transform(train[features])\n",
    "\n",
    "# Merge on Id so that the submission set can have feature columns as well\n",
    "X_submission = testingSet\n",
    "\n",
    "# The training set is where the score is not null\n",
    "X_train =  train[train['Score'].notnull()]\n",
    "X_train.to_csv(\"./X_train.csv\", index=False)"
   ]
  },
  {
   "cell_type": "markdown",
   "metadata": {},
   "source": [
    "# Sample + Split into training and testing set"
   ]
  },
  {
   "cell_type": "code",
   "execution_count": 93,
   "metadata": {},
   "outputs": [],
   "source": [
    "# Split training set into training and testing set\n",
    "X_train, X_test, Y_train, Y_test = train_test_split(\n",
    "    X_train.drop(columns=['Score']),\n",
    "    X_train['Score'],\n",
    "    test_size=1/4.0,\n",
    "    random_state=0\n",
    ")"
   ]
  },
  {
   "cell_type": "markdown",
   "metadata": {},
   "source": [
    "# Feature Selection"
   ]
  },
  {
   "cell_type": "code",
   "execution_count": 86,
   "metadata": {},
   "outputs": [],
   "source": [
    "features = [ 'Time', 'ProductId','Helpfulness']\n",
    "\n",
    "X_train_select = X_train[features]\n",
    "X_test_select = X_test[features]\n",
    "X_submission_select = X_submission[features]"
   ]
  },
  {
   "cell_type": "markdown",
   "metadata": {},
   "source": [
    "# Model Creation"
   ]
  },
  {
   "cell_type": "code",
   "execution_count": 88,
   "metadata": {},
   "outputs": [
    {
     "name": "stdout",
     "output_type": "stream",
     "text": [
      "init\n",
      "fit (6000, 2)\n",
      "Original X shape: (2000, 3)\n",
      "PIDs shape after extraction: (2000,)\n",
      "Features shape after deleting PID column: (2000, 2)\n",
      "2000\n",
      "Accuracy on testing set =  0.4995\n"
     ]
    }
   ],
   "source": [
    "# Learn the model\n",
    "#model = KNeighborsClassifier(n_neighbors=3).fit(X_train_select, Y_train)\n",
    "# import numpy as np\n",
    "# print(np.array(X_train_select))\n",
    "# print(X_train_select)\n",
    "import KNN\n",
    "import importlib\n",
    "importlib.reload(KNN)\n",
    "model=KNN.CustomKNN(n_neighbors=10,use_weights=\"helpful\")\n",
    "model.fit(X_train_select, Y_train)\n",
    "# Predict the score using the model\n",
    "Y_test_predictions = model.predict(X_test_select)\n",
    "# Evaluate your model on the testing set\n",
    "print(\"Accuracy on testing set = \", accuracy_score(Y_test, Y_test_predictions))"
   ]
  },
  {
   "cell_type": "markdown",
   "metadata": {},
   "source": [
    "# Model Evaluation"
   ]
  },
  {
   "cell_type": "code",
   "execution_count": 89,
   "metadata": {},
   "outputs": [
    {
     "data": {
      "image/png": "[encoded data removed]",
      "text/plain": [
       "<Figure size 640x480 with 2 Axes>"
      ]
     },
     "metadata": {},
     "output_type": "display_data"
    }
   ],
   "source": [
    "# Plot a confusion matrix\n",
    "cm = confusion_matrix(Y_test, Y_test_predictions, normalize='true')\n",
    "sns.heatmap(cm, annot=True)\n",
    "plt.title('Confusion matrix of the classifier')\n",
    "plt.xlabel('Predicted')\n",
    "plt.ylabel('True')\n",
    "plt.show()"
   ]
  },
  {
   "cell_type": "markdown",
   "metadata": {},
   "source": [
    "# Create submission file"
   ]
  },
  {
   "cell_type": "code",
   "execution_count": 95,
   "metadata": {},
   "outputs": [
    {
     "name": "stdout",
     "output_type": "stream",
     "text": [
      "(0, 3)\n",
      "Original X shape: (0, 3)\n",
      "PIDs shape after extraction: (0,)\n",
      "Features shape after deleting PID column: (0, 2)\n",
      "0\n"
     ]
    },
    {
     "ename": "ValueError",
     "evalue": "Length of values (0) does not match length of index (212192)",
     "output_type": "error",
     "traceback": [
      "\u001b[0;31m---------------------------------------------------------------------------\u001b[0m",
      "\u001b[0;31mValueError\u001b[0m                                Traceback (most recent call last)",
      "Cell \u001b[0;32mIn[95], line 3\u001b[0m\n\u001b[1;32m      1\u001b[0m \u001b[39m# Create the submission file\u001b[39;00m\n\u001b[1;32m      2\u001b[0m \u001b[39mprint\u001b[39m(X_submission_select\u001b[39m.\u001b[39mshape)\n\u001b[0;32m----> 3\u001b[0m X_submission[\u001b[39m'\u001b[39;49m\u001b[39mScore\u001b[39;49m\u001b[39m'\u001b[39;49m] \u001b[39m=\u001b[39m model\u001b[39m.\u001b[39mpredict(X_submission_select)\n\u001b[1;32m      4\u001b[0m submission \u001b[39m=\u001b[39m X_submission[[\u001b[39m'\u001b[39m\u001b[39mId\u001b[39m\u001b[39m'\u001b[39m, \u001b[39m'\u001b[39m\u001b[39mScore\u001b[39m\u001b[39m'\u001b[39m]]\n\u001b[1;32m      5\u001b[0m submission\u001b[39m.\u001b[39mto_csv(\u001b[39m\"\u001b[39m\u001b[39m./submission.csv\u001b[39m\u001b[39m\"\u001b[39m, index\u001b[39m=\u001b[39m\u001b[39mFalse\u001b[39;00m)\n",
      "File \u001b[0;32m~/anaconda3/envs/506lab1/lib/python3.12/site-packages/pandas/core/frame.py:4311\u001b[0m, in \u001b[0;36mDataFrame.__setitem__\u001b[0;34m(self, key, value)\u001b[0m\n\u001b[1;32m   4308\u001b[0m     \u001b[39mself\u001b[39m\u001b[39m.\u001b[39m_setitem_array([key], value)\n\u001b[1;32m   4309\u001b[0m \u001b[39melse\u001b[39;00m:\n\u001b[1;32m   4310\u001b[0m     \u001b[39m# set column\u001b[39;00m\n\u001b[0;32m-> 4311\u001b[0m     \u001b[39mself\u001b[39;49m\u001b[39m.\u001b[39;49m_set_item(key, value)\n",
      "File \u001b[0;32m~/anaconda3/envs/506lab1/lib/python3.12/site-packages/pandas/core/frame.py:4524\u001b[0m, in \u001b[0;36mDataFrame._set_item\u001b[0;34m(self, key, value)\u001b[0m\n\u001b[1;32m   4514\u001b[0m \u001b[39mdef\u001b[39;00m \u001b[39m_set_item\u001b[39m(\u001b[39mself\u001b[39m, key, value) \u001b[39m-\u001b[39m\u001b[39m>\u001b[39m \u001b[39mNone\u001b[39;00m:\n\u001b[1;32m   4515\u001b[0m \u001b[39m    \u001b[39m\u001b[39m\"\"\"\u001b[39;00m\n\u001b[1;32m   4516\u001b[0m \u001b[39m    Add series to DataFrame in specified column.\u001b[39;00m\n\u001b[1;32m   4517\u001b[0m \n\u001b[0;32m   (...)\u001b[0m\n\u001b[1;32m   4522\u001b[0m \u001b[39m    ensure homogeneity.\u001b[39;00m\n\u001b[1;32m   4523\u001b[0m \u001b[39m    \"\"\"\u001b[39;00m\n\u001b[0;32m-> 4524\u001b[0m     value, refs \u001b[39m=\u001b[39m \u001b[39mself\u001b[39;49m\u001b[39m.\u001b[39;49m_sanitize_column(value)\n\u001b[1;32m   4526\u001b[0m     \u001b[39mif\u001b[39;00m (\n\u001b[1;32m   4527\u001b[0m         key \u001b[39min\u001b[39;00m \u001b[39mself\u001b[39m\u001b[39m.\u001b[39mcolumns\n\u001b[1;32m   4528\u001b[0m         \u001b[39mand\u001b[39;00m value\u001b[39m.\u001b[39mndim \u001b[39m==\u001b[39m \u001b[39m1\u001b[39m\n\u001b[1;32m   4529\u001b[0m         \u001b[39mand\u001b[39;00m \u001b[39mnot\u001b[39;00m \u001b[39misinstance\u001b[39m(value\u001b[39m.\u001b[39mdtype, ExtensionDtype)\n\u001b[1;32m   4530\u001b[0m     ):\n\u001b[1;32m   4531\u001b[0m         \u001b[39m# broadcast across multiple columns if necessary\u001b[39;00m\n\u001b[1;32m   4532\u001b[0m         \u001b[39mif\u001b[39;00m \u001b[39mnot\u001b[39;00m \u001b[39mself\u001b[39m\u001b[39m.\u001b[39mcolumns\u001b[39m.\u001b[39mis_unique \u001b[39mor\u001b[39;00m \u001b[39misinstance\u001b[39m(\u001b[39mself\u001b[39m\u001b[39m.\u001b[39mcolumns, MultiIndex):\n",
      "File \u001b[0;32m~/anaconda3/envs/506lab1/lib/python3.12/site-packages/pandas/core/frame.py:5266\u001b[0m, in \u001b[0;36mDataFrame._sanitize_column\u001b[0;34m(self, value)\u001b[0m\n\u001b[1;32m   5263\u001b[0m     \u001b[39mreturn\u001b[39;00m _reindex_for_setitem(value, \u001b[39mself\u001b[39m\u001b[39m.\u001b[39mindex)\n\u001b[1;32m   5265\u001b[0m \u001b[39mif\u001b[39;00m is_list_like(value):\n\u001b[0;32m-> 5266\u001b[0m     com\u001b[39m.\u001b[39;49mrequire_length_match(value, \u001b[39mself\u001b[39;49m\u001b[39m.\u001b[39;49mindex)\n\u001b[1;32m   5267\u001b[0m arr \u001b[39m=\u001b[39m sanitize_array(value, \u001b[39mself\u001b[39m\u001b[39m.\u001b[39mindex, copy\u001b[39m=\u001b[39m\u001b[39mTrue\u001b[39;00m, allow_2d\u001b[39m=\u001b[39m\u001b[39mTrue\u001b[39;00m)\n\u001b[1;32m   5268\u001b[0m \u001b[39mif\u001b[39;00m (\n\u001b[1;32m   5269\u001b[0m     \u001b[39misinstance\u001b[39m(value, Index)\n\u001b[1;32m   5270\u001b[0m     \u001b[39mand\u001b[39;00m value\u001b[39m.\u001b[39mdtype \u001b[39m==\u001b[39m \u001b[39m\"\u001b[39m\u001b[39mobject\u001b[39m\u001b[39m\"\u001b[39m\n\u001b[0;32m   (...)\u001b[0m\n\u001b[1;32m   5273\u001b[0m     \u001b[39m# TODO: Remove kludge in sanitize_array for string mode when enforcing\u001b[39;00m\n\u001b[1;32m   5274\u001b[0m     \u001b[39m# this deprecation\u001b[39;00m\n",
      "File \u001b[0;32m~/anaconda3/envs/506lab1/lib/python3.12/site-packages/pandas/core/common.py:573\u001b[0m, in \u001b[0;36mrequire_length_match\u001b[0;34m(data, index)\u001b[0m\n\u001b[1;32m    569\u001b[0m \u001b[39m\u001b[39m\u001b[39m\"\"\"\u001b[39;00m\n\u001b[1;32m    570\u001b[0m \u001b[39mCheck the length of data matches the length of the index.\u001b[39;00m\n\u001b[1;32m    571\u001b[0m \u001b[39m\"\"\"\u001b[39;00m\n\u001b[1;32m    572\u001b[0m \u001b[39mif\u001b[39;00m \u001b[39mlen\u001b[39m(data) \u001b[39m!=\u001b[39m \u001b[39mlen\u001b[39m(index):\n\u001b[0;32m--> 573\u001b[0m     \u001b[39mraise\u001b[39;00m \u001b[39mValueError\u001b[39;00m(\n\u001b[1;32m    574\u001b[0m         \u001b[39m\"\u001b[39m\u001b[39mLength of values \u001b[39m\u001b[39m\"\u001b[39m\n\u001b[1;32m    575\u001b[0m         \u001b[39mf\u001b[39m\u001b[39m\"\u001b[39m\u001b[39m(\u001b[39m\u001b[39m{\u001b[39;00m\u001b[39mlen\u001b[39m(data)\u001b[39m}\u001b[39;00m\u001b[39m) \u001b[39m\u001b[39m\"\u001b[39m\n\u001b[1;32m    576\u001b[0m         \u001b[39m\"\u001b[39m\u001b[39mdoes not match length of index \u001b[39m\u001b[39m\"\u001b[39m\n\u001b[1;32m    577\u001b[0m         \u001b[39mf\u001b[39m\u001b[39m\"\u001b[39m\u001b[39m(\u001b[39m\u001b[39m{\u001b[39;00m\u001b[39mlen\u001b[39m(index)\u001b[39m}\u001b[39;00m\u001b[39m)\u001b[39m\u001b[39m\"\u001b[39m\n\u001b[1;32m    578\u001b[0m     )\n",
      "\u001b[0;31mValueError\u001b[0m: Length of values (0) does not match length of index (212192)"
     ]
    }
   ],
   "source": [
    "# Create the submission file\n",
    "print(X_submission_select.shape)\n",
    "X_submission['Score'] = model.predict(X_submission_select)\n",
    "submission = X_submission[['Id', 'Score']]\n",
    "submission.to_csv(\"./submission.csv\", index=False)"
   ]
  }
 ],
 "metadata": {
  "kernelspec": {
   "display_name": "env",
   "language": "python",
   "name": "python3"
  },
  "language_info": {
   "codemirror_mode": {
    "name": "ipython",
    "version": 3
   },
   "file_extension": ".py",
   "mimetype": "text/x-python",
   "name": "python",
   "nbconvert_exporter": "python",
   "pygments_lexer": "ipython3",
   "version": "3.12.5"
  }
 },
 "nbformat": 4,
 "nbformat_minor": 2
}
